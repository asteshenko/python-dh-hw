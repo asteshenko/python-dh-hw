{
 "cells": [
  {
   "cell_type": "code",
   "execution_count": 2,
   "metadata": {},
   "outputs": [],
   "source": [
    "words  = 'абракадабра фокус покус десятка за курс немедленно появись'"
   ]
  },
  {
   "cell_type": "code",
   "execution_count": 3,
   "metadata": {},
   "outputs": [],
   "source": [
    "\n",
    "spis = []\n",
    "for i in range(len(words)-1):\n",
    "    if words[i+1] != ' ' and words[i] != ' ':\n",
    "        spis.append(words[i]+words[i+1])\n",
    "        "
   ]
  },
  {
   "cell_type": "code",
   "execution_count": 26,
   "metadata": {},
   "outputs": [],
   "source": [
    "mylist = list(set(spis))"
   ]
  },
  {
   "cell_type": "code",
   "execution_count": 27,
   "metadata": {},
   "outputs": [],
   "source": [
    "sch = []\n",
    "b = 0\n",
    "for i in mylist:\n",
    "    for a in spis:\n",
    "        if i == a:\n",
    "             b+=1\n",
    "    sch.append(b)\n",
    "    b= 0 \n",
    "dictionary = dict(zip(mylist, sch))"
   ]
  },
  {
   "cell_type": "code",
   "execution_count": 28,
   "metadata": {},
   "outputs": [
    {
     "data": {
      "text/plain": [
       "{'яв': 1,\n",
       " 'ме': 1,\n",
       " 'ак': 1,\n",
       " 'нн': 1,\n",
       " 'ис': 1,\n",
       " 'да': 1,\n",
       " 'де': 1,\n",
       " 'оя': 1,\n",
       " 'рс': 1,\n",
       " 'ес': 1,\n",
       " 'ка': 2,\n",
       " 'бр': 2,\n",
       " 'ед': 1,\n",
       " 'ле': 1,\n",
       " 'тк': 1,\n",
       " 'дл': 1,\n",
       " 'но': 1,\n",
       " 'сь': 1,\n",
       " 'ус': 2,\n",
       " 'за': 1,\n",
       " 'ад': 1,\n",
       " 'не': 1,\n",
       " 'ен': 1,\n",
       " 'ем': 1,\n",
       " 'ся': 1,\n",
       " 'ра': 2,\n",
       " 'аб': 2,\n",
       " 'по': 2,\n",
       " 'ок': 2,\n",
       " 'ур': 1,\n",
       " 'ят': 1,\n",
       " 'фо': 1,\n",
       " 'ви': 1,\n",
       " 'ку': 3}"
      ]
     },
     "execution_count": 28,
     "metadata": {},
     "output_type": "execute_result"
    }
   ],
   "source": [
    "dictionary"
   ]
  },
  {
   "cell_type": "code",
   "execution_count": 30,
   "metadata": {},
   "outputs": [
    {
     "name": "stdout",
     "output_type": "stream",
     "text": [
      "яв 1\n",
      "ме 1\n",
      "ак 1\n",
      "нн 1\n"
     ]
    }
   ],
   "source": [
    "for i in dictionary.keys():\n",
    "    if i[0] != i[1]:\n",
    "        print(i,dictionary[i])\n",
    "    else:\n",
    "        print(i,dictionary[i])\n",
    "        break\n",
    "    "
   ]
  },
  {
   "cell_type": "code",
   "execution_count": null,
   "metadata": {},
   "outputs": [],
   "source": []
  },
  {
   "cell_type": "code",
   "execution_count": 25,
   "metadata": {},
   "outputs": [],
   "source": [
    "def slova(perv,vtor):\n",
    "    if len(perv) != len(vtor):\n",
    "        print('НЕТ')\n",
    "    else:\n",
    "        b = 0 \n",
    "        for i in range(len(per)):\n",
    "            if vt[len(perv)-i-1] != vtor[i]:\n",
    "                b = 1\n",
    "        if b == 1:\n",
    "            print('НЕТ')\n",
    "        else:\n",
    "            print('ДА')\n",
    "                "
   ]
  },
  {
   "cell_type": "code",
   "execution_count": null,
   "metadata": {},
   "outputs": [],
   "source": []
  }
 ],
 "metadata": {
  "kernelspec": {
   "display_name": "Python 3",
   "language": "python",
   "name": "python3"
  },
  "language_info": {
   "codemirror_mode": {
    "name": "ipython",
    "version": 3
   },
   "file_extension": ".py",
   "mimetype": "text/x-python",
   "name": "python",
   "nbconvert_exporter": "python",
   "pygments_lexer": "ipython3",
   "version": "3.6.5"
  }
 },
 "nbformat": 4,
 "nbformat_minor": 2
}
